{
 "cells": [
  {
   "cell_type": "code",
   "execution_count": 2,
   "metadata": {},
   "outputs": [],
   "source": [
    "import numpy as np\n",
    "import pandas as pd\n",
    "import matplotlib.pyplot as py\n",
    "import seaborn as sns\n",
    "import category_encoders as ce\n",
    "from sklearn.model_selection import train_test_split\n",
    "from sklearn.metrics import accuracy_score\n",
    "from sklearn.impute import SimpleImputer\n",
    "from sklearn.pipeline import make_pipeline\n",
    "from sklearn.ensemble import RandomForestClassifier"
   ]
  },
  {
   "cell_type": "code",
   "execution_count": 3,
   "metadata": {},
   "outputs": [
    {
     "name": "stdout",
     "output_type": "stream",
     "text": [
      "<class 'pandas.core.frame.DataFrame'>\n",
      "RangeIndex: 17898 entries, 0 to 17897\n",
      "Data columns (total 9 columns):\n",
      " #   Column                                         Non-Null Count  Dtype  \n",
      "---  ------                                         --------------  -----  \n",
      " 0    Mean of the integrated profile                17898 non-null  float64\n",
      " 1    Standard deviation of the integrated profile  17898 non-null  float64\n",
      " 2    Excess kurtosis of the integrated profile     17898 non-null  float64\n",
      " 3    Skewness of the integrated profile            17898 non-null  float64\n",
      " 4    Mean of the DM-SNR curve                      17898 non-null  float64\n",
      " 5    Standard deviation of the DM-SNR curve        17898 non-null  float64\n",
      " 6    Excess kurtosis of the DM-SNR curve           17898 non-null  float64\n",
      " 7    Skewness of the DM-SNR curve                  17898 non-null  float64\n",
      " 8   target_class                                   17898 non-null  int64  \n",
      "dtypes: float64(8), int64(1)\n",
      "memory usage: 1.2 MB\n"
     ]
    }
   ],
   "source": [
    "ps = pd.read_csv('C:\\data\\pulsarstars.csv')\n",
    "#for colab\n",
    "#ps = pd.read_csv('https://github.com/DoctorDroid/Build2/blob/master/pulsarstars.csv')\n",
    "ps.info()"
   ]
  },
  {
   "cell_type": "markdown",
   "metadata": {},
   "source": [
    "## Clean. No null values and all of the data is numeric\n",
    "### On to splitting the data into train/validate/and test sets"
   ]
  },
  {
   "cell_type": "code",
   "execution_count": 4,
   "metadata": {},
   "outputs": [],
   "source": [
    "# Setting aside a saple of the data for testing.\n",
    "# this portion will not be \"known\" during the model adjustment process.\n",
    "train, test = train_test_split(ps,test_size=0.10, \n",
    "                              stratify=ps['target_class'],\n",
    "                               random_state= 17)"
   ]
  },
  {
   "cell_type": "code",
   "execution_count": 5,
   "metadata": {},
   "outputs": [],
   "source": [
    "# Separating the remaining data into training and validation sets.\n",
    "#this allows me to tweak my model to perform at it's best before testing it on unknown data. \n",
    "train, val = train_test_split(train,test_size=0.20, \n",
    "                              stratify=train['target_class'],\n",
    "                               random_state= 17)"
   ]
  },
  {
   "cell_type": "code",
   "execution_count": 6,
   "metadata": {},
   "outputs": [
    {
     "data": {
      "text/plain": [
       "((12886, 9), (3222, 9), (1790, 9))"
      ]
     },
     "execution_count": 6,
     "metadata": {},
     "output_type": "execute_result"
    }
   ],
   "source": [
    "train.shape,val.shape,test.shape"
   ]
  },
  {
   "cell_type": "code",
   "execution_count": 7,
   "metadata": {},
   "outputs": [
    {
     "data": {
      "text/plain": [
       "(0    0.908428\n",
       " 1    0.091572\n",
       " Name: target_class, dtype: float64,\n",
       " 0    0.908442\n",
       " 1    0.091558\n",
       " Name: target_class, dtype: float64,\n",
       " 0    0.90838\n",
       " 1    0.09162\n",
       " Name: target_class, dtype: float64)"
      ]
     },
     "execution_count": 7,
     "metadata": {},
     "output_type": "execute_result"
    }
   ],
   "source": [
    "# To prove the similar distribuition over training, validation, and testing sets.\n",
    "# This is accomplished by using the 'stratify' argument while splitting the data.\n",
    "train['target_class'].value_counts(normalize=True),val['target_class'].value_counts(normalize=True),test['target_class'].value_counts(normalize=True)\n"
   ]
  },
  {
   "cell_type": "markdown",
   "metadata": {},
   "source": [
    "## Solid.\n",
    "###  If I just built a model that always reporterd '0' it would be correct about 90.8% or the time (our baseline accuracy). This may be dificult to improve upon, but I enjoy a challenge!\n",
    "### Now to separate our data into X feature matrices and y target vectors."
   ]
  },
  {
   "cell_type": "code",
   "execution_count": 8,
   "metadata": {},
   "outputs": [],
   "source": [
    "target = 'target_class'\n",
    "features = ps.columns.drop(target)\n",
    "\n",
    "X_train = train[features]\n",
    "y_train = train[target]\n",
    "X_val = val[features]\n",
    "y_val = val[target]\n",
    "X_test = test[features]\n",
    "y_test = test[target]"
   ]
  },
  {
   "cell_type": "code",
   "execution_count": 11,
   "metadata": {},
   "outputs": [
    {
     "name": "stdout",
     "output_type": "stream",
     "text": [
      "Validation Accuracy 0.9798261949099938\n"
     ]
    }
   ],
   "source": [
    "model = RandomForestClassifier(random_state=13,\n",
    "                                  n_jobs=-1,\n",
    "                                  n_estimators= 91,\n",
    "                                  max_depth= 22)\n",
    "\n",
    "# Fit on train, score on val\n",
    "model.fit(X_train, y_train)\n",
    "print('Validation Accuracy', model.score(X_val, y_val))"
   ]
  },
  {
   "cell_type": "markdown",
   "metadata": {},
   "source": [
    "### After a few iterations, tweaking the hyperperameters lower and higher, I found the sweet spot of this models performance capabilities. Nearly 98% accurate is a better than expected result.\n",
    "## Still I'll try for better before testing.\n",
    "(I'd love to see another season of 'Lost in Space' , but I wouldn't want to be responsible for the reality-show version's release)"
   ]
  },
  {
   "cell_type": "code",
   "execution_count": null,
   "metadata": {},
   "outputs": [],
   "source": []
  },
  {
   "cell_type": "code",
   "execution_count": null,
   "metadata": {},
   "outputs": [],
   "source": []
  }
 ],
 "metadata": {
  "kernelspec": {
   "display_name": "Python 3",
   "language": "python",
   "name": "python3"
  },
  "language_info": {
   "codemirror_mode": {
    "name": "ipython",
    "version": 3
   },
   "file_extension": ".py",
   "mimetype": "text/x-python",
   "name": "python",
   "nbconvert_exporter": "python",
   "pygments_lexer": "ipython3",
   "version": "3.7.6"
  }
 },
 "nbformat": 4,
 "nbformat_minor": 4
}
